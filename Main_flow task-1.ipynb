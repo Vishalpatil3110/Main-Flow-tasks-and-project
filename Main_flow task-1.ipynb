{
 "cells": [
  {
   "cell_type": "markdown",
   "id": "01ed6c67-2a5d-4c2f-bb39-f887985989ac",
   "metadata": {},
   "source": [
    "# Task-1"
   ]
  },
  {
   "cell_type": "markdown",
   "id": "b69b201a-b74e-4c88-8cfc-9f8b19e363b5",
   "metadata": {},
   "source": [
    "#### Write a python program to create a list a dictionary and a set.perform the basic operation like adding , removing ,modifying element"
   ]
  },
  {
   "cell_type": "markdown",
   "id": "24368ec5-2138-403c-95c6-2c72eef477d7",
   "metadata": {},
   "source": [
    "## List operation"
   ]
  },
  {
   "cell_type": "code",
   "execution_count": 1,
   "id": "9447796d-7059-4bac-87e8-dc8e8e6f2600",
   "metadata": {},
   "outputs": [],
   "source": [
    "#Create a list"
   ]
  },
  {
   "cell_type": "code",
   "execution_count": 2,
   "id": "2640846e-7653-4b69-a45d-a68ab9004800",
   "metadata": {},
   "outputs": [],
   "source": [
    "list=['apple','banana','orange','mango','kiwi','watermelon','lemon']\n"
   ]
  },
  {
   "cell_type": "code",
   "execution_count": 4,
   "id": "b666bd13-3246-49e7-8dc7-63bcee9cdf90",
   "metadata": {},
   "outputs": [
    {
     "name": "stdout",
     "output_type": "stream",
     "text": [
      "after adding the element in list ['apple', 'banana', 'orange', 'mango', 'kiwi', 'watermelon', 'lemon', 'strawberry']\n"
     ]
    }
   ],
   "source": [
    "#adding fruits in given list\n",
    "list.append('strawberry')\n",
    "print(\"after adding the element in list\",list)"
   ]
  },
  {
   "cell_type": "code",
   "execution_count": 5,
   "id": "28344dbf-581e-4a5e-ad41-0cdc30e1e3b6",
   "metadata": {},
   "outputs": [
    {
     "name": "stdout",
     "output_type": "stream",
     "text": [
      "after removing fruit in list ['apple', 'banana', 'orange', 'mango', 'watermelon', 'lemon', 'strawberry']\n"
     ]
    }
   ],
   "source": [
    "#removing fruits in given list\n",
    "list.remove('kiwi')\n",
    "print(\"after removing fruit in list\",list)"
   ]
  },
  {
   "cell_type": "code",
   "execution_count": 8,
   "id": "1e81cdf2-ba65-4dbd-a92e-e40a5d6e211d",
   "metadata": {},
   "outputs": [
    {
     "name": "stdout",
     "output_type": "stream",
     "text": [
      "after modifying the list ['apple', 'banana', 'orange', 'mango', 'watermelon', 'kiwi', 'strawberry']\n"
     ]
    }
   ],
   "source": [
    "#modifying the given list\n",
    "list[5]='kiwi'    #replacing the given fruit with already existing\n",
    "print(\"after modifying the list\",list)\n"
   ]
  },
  {
   "cell_type": "markdown",
   "id": "2978b2d9-aecf-4b27-81f7-dbb1946dbbeb",
   "metadata": {},
   "source": [
    "## Set operation"
   ]
  },
  {
   "cell_type": "code",
   "execution_count": 1,
   "id": "21a9d249-9dd6-4d3b-bb97-1457f9a784cf",
   "metadata": {},
   "outputs": [],
   "source": [
    "# creat a set\n",
    "set={\"apple\",\"banana\",\"orange\",\"mango\",\"kiwi\",\"watermelon\",\"blackberry\"}"
   ]
  },
  {
   "cell_type": "code",
   "execution_count": 3,
   "id": "1d856b90-cc5a-4e22-9c8c-0cc6780e870c",
   "metadata": {},
   "outputs": [
    {
     "name": "stdout",
     "output_type": "stream",
     "text": [
      "{'orange', 'banana', 'watermelon', 'blackberry', 'mango', 'kiwi', 'apple'}\n"
     ]
    }
   ],
   "source": [
    "print(set)"
   ]
  },
  {
   "cell_type": "code",
   "execution_count": 9,
   "id": "0be9e61d-a10a-4eb3-9536-4bdf8673f514",
   "metadata": {},
   "outputs": [
    {
     "name": "stdout",
     "output_type": "stream",
     "text": [
      "after adding the element {'banana', 'starbarry', 'blackberry', 'kiwi', 'watermelon', 'mango', 'orange', 'strabarry'}\n"
     ]
    }
   ],
   "source": [
    "#adding fruits in given set\n",
    "set.add(\"strabarry\")\n",
    "print(\"after adding the element\",set)\n"
   ]
  },
  {
   "cell_type": "code",
   "execution_count": 8,
   "id": "615d8ef7-5832-4888-a723-28a8bd97a999",
   "metadata": {},
   "outputs": [
    {
     "name": "stdout",
     "output_type": "stream",
     "text": [
      "{'orange', 'banana', 'starbarry', 'watermelon', 'blackberry', 'mango', 'kiwi'}\n"
     ]
    }
   ],
   "source": [
    "#remove the element from set\n",
    "set.remove(\"apple\")\n",
    "print(\"after removing the element\"set)"
   ]
  },
  {
   "cell_type": "markdown",
   "id": "eb4b701c-7fe2-4f43-9436-06178cf22d0b",
   "metadata": {},
   "source": [
    "## Dictionary"
   ]
  },
  {
   "cell_type": "code",
   "execution_count": 20,
   "id": "93e599dd-5d7c-4f86-ac84-53b41aaa6010",
   "metadata": {},
   "outputs": [],
   "source": [
    "#create the dictionary\n",
    "dict={\n",
    "    \"company name\":\"tata\",\n",
    "    \"model\": \"currve\",\n",
    "    \"engine type\":\"v type\",\n",
    "    \"fuel type\":\"petrol engine\"\n",
    "}"
   ]
  },
  {
   "cell_type": "code",
   "execution_count": 21,
   "id": "805ce3f3-d8bb-45b2-a97e-ed3ab499e8a2",
   "metadata": {},
   "outputs": [
    {
     "data": {
      "text/plain": [
       "{'company name': 'tata',\n",
       " 'model': 'currve',\n",
       " 'engine type': 'v type',\n",
       " 'fuel type': 'petrol engine'}"
      ]
     },
     "execution_count": 21,
     "metadata": {},
     "output_type": "execute_result"
    }
   ],
   "source": [
    "dict"
   ]
  },
  {
   "cell_type": "code",
   "execution_count": 24,
   "id": "8f4d818e-4350-4f75-8e0c-71f4d12f46e4",
   "metadata": {},
   "outputs": [
    {
     "name": "stdout",
     "output_type": "stream",
     "text": [
      "after adding the element in dictionary {'company name': 'tata', 'model': 'currve', 'engine type': 'v type', 'fuel type': 'petrol engine', 'engine fuel capacity': '1.5 liter'}\n"
     ]
    }
   ],
   "source": [
    "#adding element in given dictionary\n",
    "dict[\"engine fuel capacity\"]=\"1.5 liter\"\n",
    "print(\"after adding the element in dictionary\",dict)"
   ]
  },
  {
   "cell_type": "code",
   "execution_count": 30,
   "id": "913e120b-072e-4cd9-bd8c-4fc849c65e9c",
   "metadata": {},
   "outputs": [
    {
     "name": "stdout",
     "output_type": "stream",
     "text": [
      "after removing the element in dictionary {'company name': 'tata', 'model': 'currve', 'fuel type': 'petrol engine', 'engine fuel capacity': '1.5 liter'}\n"
     ]
    }
   ],
   "source": [
    "#removing the element in dictionary\n",
    "del dict[\"engine type\"]\n",
    "print(\"after removing the element in dictionary\",dict)"
   ]
  },
  {
   "cell_type": "code",
   "execution_count": null,
   "id": "958adde1-908d-4027-bac9-d2fc4e0dc40e",
   "metadata": {},
   "outputs": [],
   "source": [
    "#modifying the given dictionary"
   ]
  },
  {
   "cell_type": "code",
   "execution_count": 31,
   "id": "2c2395a5-d0c8-4af5-97e7-2e040d55d9c4",
   "metadata": {},
   "outputs": [
    {
     "name": "stdout",
     "output_type": "stream",
     "text": [
      "after modifying the dictionary {'company name': 'tata', 'model': 'currve', 'fuel type': 'petrol engine', 'engine fuel capacity': '1.5 liter', 'different model': ['ev petrol diesel']}\n"
     ]
    }
   ],
   "source": [
    "dict[\"different model\"]=[\"ev petrol diesel\"]\n",
    "print(\"after modifying the dictionary\",dict)"
   ]
  }
 ],
 "metadata": {
  "kernelspec": {
   "display_name": "Python 3 (ipykernel)",
   "language": "python",
   "name": "python3"
  },
  "language_info": {
   "codemirror_mode": {
    "name": "ipython",
    "version": 3
   },
   "file_extension": ".py",
   "mimetype": "text/x-python",
   "name": "python",
   "nbconvert_exporter": "python",
   "pygments_lexer": "ipython3",
   "version": "3.12.4"
  }
 },
 "nbformat": 4,
 "nbformat_minor": 5
}
